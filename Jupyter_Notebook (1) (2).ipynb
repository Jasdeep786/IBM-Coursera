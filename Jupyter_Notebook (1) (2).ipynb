{
  "metadata": {
    "kernelspec": {
      "name": "python",
      "display_name": "Pyolite",
      "language": "python"
    },
    "language_info": {
      "codemirror_mode": {
        "name": "python",
        "version": 3
      },
      "file_extension": ".py",
      "mimetype": "text/x-python",
      "name": "python",
      "nbconvert_exporter": "python",
      "pygments_lexer": "ipython3",
      "version": "3.8"
    }
  },
  "nbformat_minor": 4,
  "nbformat": 4,
  "cells": [
    {
      "cell_type": "markdown",
      "source": "<center>\n    <img src=\"https://s3-api.us-geo.objectstorage.softlayer.net/cf-courses-data/CognitiveClass/Logos/organization_logo/organization_logo.png\" width=\"300\" alt=\"cognitiveclass.ai logo\"  />\n</center>\n",
      "metadata": {}
    },
    {
      "cell_type": "markdown",
      "source": "#### Add your code below following the instructions given in the course\n",
      "metadata": {}
    },
    {
      "cell_type": "markdown",
      "source": "# My Jupyter Notebook on IBM Watson Studio",
      "metadata": {}
    },
    {
      "cell_type": "markdown",
      "source": "**Jasdeep Singh**\n**Data Scientist**",
      "metadata": {}
    },
    {
      "cell_type": "markdown",
      "source": "*I am intrested in data science because I would love to contribute towards affordable and quality healthcare in the future*",
      "metadata": {}
    },
    {
      "cell_type": "markdown",
      "source": "### The below should print 'Hello world'",
      "metadata": {}
    },
    {
      "cell_type": "code",
      "source": "print('Hello world')\n\n",
      "metadata": {
        "tags": [],
        "trusted": true
      },
      "execution_count": 1,
      "outputs": [
        {
          "name": "stdout",
          "text": "Hello world\n",
          "output_type": "stream"
        }
      ]
    },
    {
      "cell_type": "markdown",
      "source": "--- This was realy\n1. Easy\n2. Clear \n3. Simple\n4. Fun\n</ol>**I suggest observor to see 'IBM Watson Studio' is down since too long, Please cheeck at your end href=\"https://cloud.ibm.com/\">IBM Watson Studio I Tried more than once.\n\n|Date|Time|Success| \n|----|-----|------|\n|July12,2020|10.30pmIST|N July21,2020|09.00amIST|\n\n Please find the below image of watson studio.\n![Watson-Studio-785x295.jpg](attachment:9d7e6207-5a7b-497b-af72-1ad99cfe9e1f.jpg)",
      "metadata": {}
    },
    {
      "cell_type": "code",
      "source": "",
      "metadata": {},
      "execution_count": null,
      "outputs": []
    }
  ]
}